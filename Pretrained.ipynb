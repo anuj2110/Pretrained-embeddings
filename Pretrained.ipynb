{
  "nbformat": 4,
  "nbformat_minor": 0,
  "metadata": {
    "colab": {
      "name": "Untitled6.ipynb",
      "provenance": []
    },
    "kernelspec": {
      "name": "python3",
      "display_name": "Python 3"
    },
    "accelerator": "GPU"
  },
  "cells": [
    {
      "cell_type": "code",
      "metadata": {
        "id": "p1ma-v7FdbSI",
        "colab_type": "code",
        "colab": {
          "base_uri": "https://localhost:8080/",
          "height": 437
        },
        "outputId": "7b4932f7-cda8-4470-f852-5ea4011ed0c7"
      },
      "source": [
        "!wget http://nlp.stanford.edu/data/glove.6B.zip\n",
        "!unzip \"glove.6B.zip\""
      ],
      "execution_count": 1,
      "outputs": [
        {
          "output_type": "stream",
          "text": [
            "--2020-06-09 14:25:06--  http://nlp.stanford.edu/data/glove.6B.zip\n",
            "Resolving nlp.stanford.edu (nlp.stanford.edu)... 171.64.67.140\n",
            "Connecting to nlp.stanford.edu (nlp.stanford.edu)|171.64.67.140|:80... connected.\n",
            "HTTP request sent, awaiting response... 302 Found\n",
            "Location: https://nlp.stanford.edu/data/glove.6B.zip [following]\n",
            "--2020-06-09 14:25:07--  https://nlp.stanford.edu/data/glove.6B.zip\n",
            "Connecting to nlp.stanford.edu (nlp.stanford.edu)|171.64.67.140|:443... connected.\n",
            "HTTP request sent, awaiting response... 301 Moved Permanently\n",
            "Location: http://downloads.cs.stanford.edu/nlp/data/glove.6B.zip [following]\n",
            "--2020-06-09 14:25:07--  http://downloads.cs.stanford.edu/nlp/data/glove.6B.zip\n",
            "Resolving downloads.cs.stanford.edu (downloads.cs.stanford.edu)... 171.64.64.22\n",
            "Connecting to downloads.cs.stanford.edu (downloads.cs.stanford.edu)|171.64.64.22|:80... connected.\n",
            "HTTP request sent, awaiting response... 200 OK\n",
            "Length: 862182613 (822M) [application/zip]\n",
            "Saving to: ‘glove.6B.zip’\n",
            "\n",
            "glove.6B.zip        100%[===================>] 822.24M  1.91MB/s    in 6m 29s  \n",
            "\n",
            "2020-06-09 14:31:37 (2.11 MB/s) - ‘glove.6B.zip’ saved [862182613/862182613]\n",
            "\n",
            "Archive:  glove.6B.zip\n",
            "  inflating: glove.6B.50d.txt        \n",
            "  inflating: glove.6B.100d.txt       \n",
            "  inflating: glove.6B.200d.txt       \n",
            "  inflating: glove.6B.300d.txt       \n"
          ],
          "name": "stdout"
        }
      ]
    },
    {
      "cell_type": "code",
      "metadata": {
        "id": "LeQNNQSjf4CJ",
        "colab_type": "code",
        "colab": {
          "base_uri": "https://localhost:8080/",
          "height": 84
        },
        "outputId": "d67301f5-58d6-43d6-87e7-d0a5a48d8a11"
      },
      "source": [
        "!unzip \"/content/drive/My Drive/429163_816060_bundle_archive.zip\""
      ],
      "execution_count": 3,
      "outputs": [
        {
          "output_type": "stream",
          "text": [
            "Archive:  /content/drive/My Drive/429163_816060_bundle_archive.zip\n",
            "  inflating: Test.csv                \n",
            "  inflating: Train.csv               \n",
            "  inflating: Valid.csv               \n"
          ],
          "name": "stdout"
        }
      ]
    },
    {
      "cell_type": "code",
      "metadata": {
        "id": "1zbd_RHReENY",
        "colab_type": "code",
        "colab": {}
      },
      "source": [
        "import numpy as np\n",
        "import pandas as pd\n",
        "import matplotlib.pyplot as plt\n",
        "from tensorflow.keras.layers import Embedding,Flatten,LSTM,Dense,GlobalMaxPool1D\n",
        "from tensorflow.keras.preprocessing.text import Tokenizer\n",
        "from tensorflow.keras.preprocessing.sequence import pad_sequences\n",
        "from tensorflow.keras.models import Sequential\n",
        "from tensorflow.keras.callbacks import *"
      ],
      "execution_count": 0,
      "outputs": []
    },
    {
      "cell_type": "code",
      "metadata": {
        "id": "Uc7SMrncgHE_",
        "colab_type": "code",
        "colab": {
          "base_uri": "https://localhost:8080/",
          "height": 218
        },
        "outputId": "68b381c1-5f01-44cb-82ca-cf52b7444777"
      },
      "source": [
        "train_path = \"Train.csv\"\n",
        "test_path = \"Test.csv\"\n",
        "valid_path = \"Valid.csv\"\n",
        "\n",
        "train_df = pd.read_csv(train_path)\n",
        "valid_df = pd.read_csv(valid_path)\n",
        "\n",
        "print(train_df.head())\n",
        "print(valid_df.head())"
      ],
      "execution_count": 7,
      "outputs": [
        {
          "output_type": "stream",
          "text": [
            "                                                text  label\n",
            "0  I grew up (b. 1965) watching and loving the Th...      0\n",
            "1  When I put this movie in my DVD player, and sa...      0\n",
            "2  Why do people who do not know what a particula...      0\n",
            "3  Even though I have great interest in Biblical ...      0\n",
            "4  Im a die hard Dads Army fan and nothing will e...      1\n",
            "                                                text  label\n",
            "0  It's been about 14 years since Sharon Stone aw...      0\n",
            "1  someone needed to make a car payment... this i...      0\n",
            "2  The Guidelines state that a comment must conta...      0\n",
            "3  This movie is a muddled mish-mash of clichés f...      0\n",
            "4  Before Stan Laurel became the smaller half of ...      0\n"
          ],
          "name": "stdout"
        }
      ]
    },
    {
      "cell_type": "code",
      "metadata": {
        "id": "BM6Gri6lgdoA",
        "colab_type": "code",
        "colab": {}
      },
      "source": [
        "x_train,y_train = train_df['text'].values, train_df['label'].values\n",
        "x_val,y_val = valid_df['text'].values, valid_df['label'].values"
      ],
      "execution_count": 0,
      "outputs": []
    },
    {
      "cell_type": "code",
      "metadata": {
        "id": "MnA57aDPhnOe",
        "colab_type": "code",
        "colab": {}
      },
      "source": [
        "word_tokenizer = Tokenizer()\n",
        "word_tokenizer.fit_on_texts(list(x_train))\n",
        "\n",
        "x_train = word_tokenizer.texts_to_sequences(x_train)\n",
        "x_val = word_tokenizer.texts_to_sequences(x_val)"
      ],
      "execution_count": 0,
      "outputs": []
    },
    {
      "cell_type": "code",
      "metadata": {
        "id": "habgzzTJht-7",
        "colab_type": "code",
        "colab": {
          "base_uri": "https://localhost:8080/",
          "height": 34
        },
        "outputId": "985b1588-8a70-4b8a-ad7e-494718233105"
      },
      "source": [
        "size_of_vocabulary=len(word_tokenizer.word_index) + 1 #+1 for padding\n",
        "print(size_of_vocabulary)"
      ],
      "execution_count": 14,
      "outputs": [
        {
          "output_type": "stream",
          "text": [
            "112204\n"
          ],
          "name": "stdout"
        }
      ]
    },
    {
      "cell_type": "code",
      "metadata": {
        "id": "a3mYBs6ciQqn",
        "colab_type": "code",
        "colab": {}
      },
      "source": [
        "x_tr_seq  = pad_sequences(x_train, maxlen=100)\n",
        "x_val_seq = pad_sequences(x_val, maxlen=100)"
      ],
      "execution_count": 0,
      "outputs": []
    },
    {
      "cell_type": "code",
      "metadata": {
        "id": "Yg9ckfEyiXcX",
        "colab_type": "code",
        "colab": {
          "base_uri": "https://localhost:8080/",
          "height": 356
        },
        "outputId": "05f9884a-b61a-45fc-f7b4-5642a69f59a4"
      },
      "source": [
        "model = Sequential()\n",
        "model.add(Embedding(size_of_vocabulary,300,input_length=100,trainable=True))\n",
        "model.add(LSTM(128,return_sequences=True,activation='relu',dropout=0.1))\n",
        "model.add(GlobalMaxPool1D())\n",
        "model.add(Dense(64,activation=\"relu\"))\n",
        "model.add(Dense(1,activation='sigmoid'))\n",
        "model.compile(optimizer='adam',metrics=['acc'],loss='binary_crossentropy')\n",
        "model.summary()"
      ],
      "execution_count": 31,
      "outputs": [
        {
          "output_type": "stream",
          "text": [
            "WARNING:tensorflow:Layer lstm_3 will not use cuDNN kernel since it doesn't meet the cuDNN kernel criteria. It will use generic GPU kernel as fallback when running on GPU\n",
            "Model: \"sequential_3\"\n",
            "_________________________________________________________________\n",
            "Layer (type)                 Output Shape              Param #   \n",
            "=================================================================\n",
            "embedding_3 (Embedding)      (None, 100, 300)          33661200  \n",
            "_________________________________________________________________\n",
            "lstm_3 (LSTM)                (None, 100, 128)          219648    \n",
            "_________________________________________________________________\n",
            "global_max_pooling1d_3 (Glob (None, 128)               0         \n",
            "_________________________________________________________________\n",
            "dense_5 (Dense)              (None, 64)                8256      \n",
            "_________________________________________________________________\n",
            "dense_6 (Dense)              (None, 1)                 65        \n",
            "=================================================================\n",
            "Total params: 33,889,169\n",
            "Trainable params: 33,889,169\n",
            "Non-trainable params: 0\n",
            "_________________________________________________________________\n"
          ],
          "name": "stdout"
        }
      ]
    },
    {
      "cell_type": "code",
      "metadata": {
        "id": "XVYTkkTXidWK",
        "colab_type": "code",
        "colab": {}
      },
      "source": [
        "es = EarlyStopping(monitor='val_loss', mode='min', verbose=1,patience=3)  \n",
        "mc=ModelCheckpoint('best_model.h5', monitor='val_acc', mode='max', save_best_only=True,verbose=1)"
      ],
      "execution_count": 0,
      "outputs": []
    },
    {
      "cell_type": "code",
      "metadata": {
        "id": "VpMBQ_x5o3nd",
        "colab_type": "code",
        "colab": {
          "base_uri": "https://localhost:8080/",
          "height": 437
        },
        "outputId": "1ea6daa3-a572-405e-eaef-6cd8577b62ff"
      },
      "source": [
        "history = model.fit(x_tr_seq,y_train,epochs=10,validation_data=(x_val_seq,y_val),callbacks=[es,mc],batch_size=128)"
      ],
      "execution_count": 33,
      "outputs": [
        {
          "output_type": "stream",
          "text": [
            "Epoch 1/10\n",
            "313/313 [==============================] - ETA: 0s - loss: 1794734292992.0000 - acc: 0.7829\n",
            "Epoch 00001: val_acc improved from -inf to 0.83480, saving model to best_model.h5\n",
            "313/313 [==============================] - 190s 608ms/step - loss: 1794734292992.0000 - acc: 0.7829 - val_loss: 0.3957 - val_acc: 0.8348\n",
            "Epoch 2/10\n",
            "313/313 [==============================] - ETA: 0s - loss: 12032.4004 - acc: 0.8768\n",
            "Epoch 00002: val_acc improved from 0.83480 to 0.85260, saving model to best_model.h5\n",
            "313/313 [==============================] - 191s 611ms/step - loss: 12032.4004 - acc: 0.8768 - val_loss: 1297.1008 - val_acc: 0.8526\n",
            "Epoch 3/10\n",
            "313/313 [==============================] - ETA: 0s - loss: 0.2212 - acc: 0.9264\n",
            "Epoch 00003: val_acc did not improve from 0.85260\n",
            "313/313 [==============================] - 191s 610ms/step - loss: 0.2212 - acc: 0.9264 - val_loss: 0.3694 - val_acc: 0.8496\n",
            "Epoch 4/10\n",
            "313/313 [==============================] - ETA: 0s - loss: 511.7755 - acc: 0.9607\n",
            "Epoch 00004: val_acc did not improve from 0.85260\n",
            "313/313 [==============================] - 191s 612ms/step - loss: 511.7755 - acc: 0.9607 - val_loss: 0.3989 - val_acc: 0.8390\n",
            "Epoch 5/10\n",
            "313/313 [==============================] - ETA: 0s - loss: 0.0750 - acc: 0.9804\n",
            "Epoch 00005: val_acc did not improve from 0.85260\n",
            "313/313 [==============================] - 190s 606ms/step - loss: 0.0750 - acc: 0.9804 - val_loss: 0.4490 - val_acc: 0.8352\n",
            "Epoch 6/10\n",
            "313/313 [==============================] - ETA: 0s - loss: 0.0441 - acc: 0.9914\n",
            "Epoch 00006: val_acc did not improve from 0.85260\n",
            "313/313 [==============================] - 188s 602ms/step - loss: 0.0441 - acc: 0.9914 - val_loss: 0.5007 - val_acc: 0.8286\n",
            "Epoch 00006: early stopping\n"
          ],
          "name": "stdout"
        }
      ]
    },
    {
      "cell_type": "code",
      "metadata": {
        "id": "1BUzaEkIp_EI",
        "colab_type": "code",
        "colab": {
          "base_uri": "https://localhost:8080/",
          "height": 50
        },
        "outputId": "817b63fd-4b60-4b44-e047-c4b74d15ff0e"
      },
      "source": [
        "_,val_acc = model.evaluate(x_val_seq,y_val, batch_size=128)\n",
        "print(val_acc)"
      ],
      "execution_count": 35,
      "outputs": [
        {
          "output_type": "stream",
          "text": [
            "40/40 [==============================] - 1s 29ms/step - loss: 0.5007 - acc: 0.8286\n",
            "0.8285999894142151\n"
          ],
          "name": "stdout"
        }
      ]
    },
    {
      "cell_type": "code",
      "metadata": {
        "id": "89OhicBKpIQr",
        "colab_type": "code",
        "colab": {
          "base_uri": "https://localhost:8080/",
          "height": 299
        },
        "outputId": "1da1203e-d6fb-4571-d418-e5bc09aba0c4"
      },
      "source": [
        "def plot_train(hist):\n",
        "  plt.style.use(\"ggplot\")\n",
        "  plt.figure()\n",
        "  # plt.plot(hist.history[\"loss\"], label=\"train_loss\")\n",
        "  # plt.plot(hist.history[\"val_loss\"], label=\"val_loss\")\n",
        "  plt.plot(hist.history[\"acc\"], label=\"train_acc\")\n",
        "  plt.plot(hist.history[\"val_acc\"], label=\"val_acc\")\n",
        "  plt.title(\"Model Training\")\n",
        "  plt.xlabel(\"Epoch #\")\n",
        "  plt.ylabel(\"Loss/Accuracy\")\n",
        "  plt.legend()\n",
        "  plt.savefig(\"epochs.png\")\n",
        "\n",
        "plot_train(history)"
      ],
      "execution_count": 39,
      "outputs": [
        {
          "output_type": "display_data",
          "data": {
            "image/png": "[encoded data removed]",
            "text/plain": [
              "<Figure size 432x288 with 1 Axes>"
            ]
          },
          "metadata": {
            "tags": []
          }
        }
      ]
    },
    {
      "cell_type": "code",
      "metadata": {
        "id": "08x9OI59sT1O",
        "colab_type": "code",
        "colab": {
          "base_uri": "https://localhost:8080/",
          "height": 34
        },
        "outputId": "9715088a-d33b-4bda-9638-e8920d7bb595"
      },
      "source": [
        "embeddings_dict = dict()\n",
        "\n",
        "emb = open(\"glove.6B.300d.txt\")\n",
        "for line in emb:\n",
        "  values = line.split()\n",
        "  word = values[0]\n",
        "  coefs = np.asarray(values[1:], dtype='float32')\n",
        "  embeddings_dict[word] = coefs\n",
        "emb.close()\n",
        "print(f\"loaded {len(embeddings_dict)} word vectors\")"
      ],
      "execution_count": 40,
      "outputs": [
        {
          "output_type": "stream",
          "text": [
            "loaded 400000 word vectors\n"
          ],
          "name": "stdout"
        }
      ]
    },
    {
      "cell_type": "code",
      "metadata": {
        "id": "Hk4BemEhs0FS",
        "colab_type": "code",
        "colab": {}
      },
      "source": [
        "embedding_matrix = np.zeros((size_of_vocabulary,300))\n",
        "for word,i in word_tokenizer.word_index.items():\n",
        "  embedding_vector = embeddings_dict.get(word)\n",
        "  if embedding_vector is not None:\n",
        "    embedding_matrix[i] = embedding_vector"
      ],
      "execution_count": 0,
      "outputs": []
    },
    {
      "cell_type": "code",
      "metadata": {
        "id": "hWJzpBT5ul06",
        "colab_type": "code",
        "colab": {
          "base_uri": "https://localhost:8080/",
          "height": 356
        },
        "outputId": "064404a0-4712-47d3-ced9-a1619a81560e"
      },
      "source": [
        "model = Sequential()\n",
        "model.add(Embedding(size_of_vocabulary,300,input_length=100,trainable=False,weights=[embedding_matrix]))\n",
        "model.add(LSTM(128,return_sequences=True,activation='relu',dropout=0.1))\n",
        "model.add(GlobalMaxPool1D())\n",
        "model.add(Dense(64,activation=\"relu\"))\n",
        "model.add(Dense(1,activation='sigmoid'))\n",
        "model.compile(optimizer='adam',metrics=['acc'],loss='binary_crossentropy')\n",
        "model.summary()\n",
        "es = EarlyStopping(monitor='val_loss', mode='min', verbose=1,patience=3)  \n",
        "mc=ModelCheckpoint('best_model.h5', monitor='val_acc', mode='max', save_best_only=True,verbose=1)"
      ],
      "execution_count": 46,
      "outputs": [
        {
          "output_type": "stream",
          "text": [
            "WARNING:tensorflow:Layer lstm_5 will not use cuDNN kernel since it doesn't meet the cuDNN kernel criteria. It will use generic GPU kernel as fallback when running on GPU\n",
            "Model: \"sequential_5\"\n",
            "_________________________________________________________________\n",
            "Layer (type)                 Output Shape              Param #   \n",
            "=================================================================\n",
            "embedding_5 (Embedding)      (None, 100, 300)          33661200  \n",
            "_________________________________________________________________\n",
            "lstm_5 (LSTM)                (None, 100, 128)          219648    \n",
            "_________________________________________________________________\n",
            "global_max_pooling1d_5 (Glob (None, 128)               0         \n",
            "_________________________________________________________________\n",
            "dense_9 (Dense)              (None, 64)                8256      \n",
            "_________________________________________________________________\n",
            "dense_10 (Dense)             (None, 1)                 65        \n",
            "=================================================================\n",
            "Total params: 33,889,169\n",
            "Trainable params: 227,969\n",
            "Non-trainable params: 33,661,200\n",
            "_________________________________________________________________\n"
          ],
          "name": "stdout"
        }
      ]
    },
    {
      "cell_type": "code",
      "metadata": {
        "id": "a6LbdFk4wiKs",
        "colab_type": "code",
        "colab": {
          "base_uri": "https://localhost:8080/",
          "height": 706
        },
        "outputId": "213bb922-299b-46d0-a245-7c3272d8077c"
      },
      "source": [
        "history = model.fit(x_tr_seq,y_train,epochs=10,validation_data=(x_val_seq,y_val),callbacks=[es,mc],batch_size=128)"
      ],
      "execution_count": 47,
      "outputs": [
        {
          "output_type": "stream",
          "text": [
            "Epoch 1/10\n",
            "313/313 [==============================] - ETA: 0s - loss: 0.7625 - acc: 0.7398\n",
            "Epoch 00001: val_acc improved from -inf to 0.78620, saving model to best_model.h5\n",
            "313/313 [==============================] - 88s 282ms/step - loss: 0.7625 - acc: 0.7398 - val_loss: 0.4602 - val_acc: 0.7862\n",
            "Epoch 2/10\n",
            "313/313 [==============================] - ETA: 0s - loss: 0.4412 - acc: 0.7939\n",
            "Epoch 00002: val_acc improved from 0.78620 to 0.81720, saving model to best_model.h5\n",
            "313/313 [==============================] - 79s 253ms/step - loss: 0.4412 - acc: 0.7939 - val_loss: 0.3974 - val_acc: 0.8172\n",
            "Epoch 3/10\n",
            "313/313 [==============================] - ETA: 0s - loss: 0.3886 - acc: 0.8222\n",
            "Epoch 00003: val_acc improved from 0.81720 to 0.83620, saving model to best_model.h5\n",
            "313/313 [==============================] - 79s 251ms/step - loss: 0.3886 - acc: 0.8222 - val_loss: 0.3672 - val_acc: 0.8362\n",
            "Epoch 4/10\n",
            "313/313 [==============================] - ETA: 0s - loss: 0.3671 - acc: 0.8332\n",
            "Epoch 00004: val_acc improved from 0.83620 to 0.84260, saving model to best_model.h5\n",
            "313/313 [==============================] - 79s 253ms/step - loss: 0.3671 - acc: 0.8332 - val_loss: 0.3552 - val_acc: 0.8426\n",
            "Epoch 5/10\n",
            "313/313 [==============================] - ETA: 0s - loss: 0.3455 - acc: 0.8468\n",
            "Epoch 00005: val_acc improved from 0.84260 to 0.84900, saving model to best_model.h5\n",
            "313/313 [==============================] - 79s 252ms/step - loss: 0.3455 - acc: 0.8468 - val_loss: 0.3451 - val_acc: 0.8490\n",
            "Epoch 6/10\n",
            "313/313 [==============================] - ETA: 0s - loss: 0.3321 - acc: 0.8539\n",
            "Epoch 00006: val_acc improved from 0.84900 to 0.85180, saving model to best_model.h5\n",
            "313/313 [==============================] - 79s 253ms/step - loss: 0.3321 - acc: 0.8539 - val_loss: 0.3382 - val_acc: 0.8518\n",
            "Epoch 7/10\n",
            "313/313 [==============================] - ETA: 0s - loss: 0.3157 - acc: 0.8608\n",
            "Epoch 00007: val_acc improved from 0.85180 to 0.85700, saving model to best_model.h5\n",
            "313/313 [==============================] - 78s 249ms/step - loss: 0.3157 - acc: 0.8608 - val_loss: 0.3256 - val_acc: 0.8570\n",
            "Epoch 8/10\n",
            "313/313 [==============================] - ETA: 0s - loss: 0.3030 - acc: 0.8683\n",
            "Epoch 00008: val_acc did not improve from 0.85700\n",
            "313/313 [==============================] - 79s 252ms/step - loss: 0.3030 - acc: 0.8683 - val_loss: 0.3261 - val_acc: 0.8570\n",
            "Epoch 9/10\n",
            "313/313 [==============================] - ETA: 0s - loss: 0.2860 - acc: 0.8758\n",
            "Epoch 00009: val_acc did not improve from 0.85700\n",
            "313/313 [==============================] - 79s 252ms/step - loss: 0.2860 - acc: 0.8758 - val_loss: 0.3398 - val_acc: 0.8524\n",
            "Epoch 10/10\n",
            "313/313 [==============================] - ETA: 0s - loss: 0.2745 - acc: 0.8829\n",
            "Epoch 00010: val_acc did not improve from 0.85700\n",
            "313/313 [==============================] - 77s 247ms/step - loss: 0.2745 - acc: 0.8829 - val_loss: 0.3363 - val_acc: 0.8536\n",
            "Epoch 00010: early stopping\n"
          ],
          "name": "stdout"
        }
      ]
    },
    {
      "cell_type": "code",
      "metadata": {
        "id": "WprNTrQAwoV0",
        "colab_type": "code",
        "colab": {
          "base_uri": "https://localhost:8080/",
          "height": 299
        },
        "outputId": "7c7e349e-8b7c-449d-dc98-f64bd7ad050f"
      },
      "source": [
        "def plot_train(hist):\n",
        "  plt.style.use(\"ggplot\")\n",
        "  plt.figure()\n",
        "  plt.plot(hist.history[\"loss\"], label=\"train_loss\")\n",
        "  plt.plot(hist.history[\"val_loss\"], label=\"val_loss\")\n",
        "  plt.plot(hist.history[\"acc\"], label=\"train_acc\")\n",
        "  plt.plot(hist.history[\"val_acc\"], label=\"val_acc\")\n",
        "  plt.title(\"Model Training\")\n",
        "  plt.xlabel(\"Epoch #\")\n",
        "  plt.ylabel(\"Loss/Accuracy\")\n",
        "  plt.legend()\n",
        "  plt.savefig(\"epochs.png\")\n",
        "\n",
        "plot_train(history)"
      ],
      "execution_count": 48,
      "outputs": [
        {
          "output_type": "display_data",
          "data": {
            "image/png": "[encoded data removed]",
            "text/plain": [
              "<Figure size 432x288 with 1 Axes>"
            ]
          },
          "metadata": {
            "tags": []
          }
        }
      ]
    },
    {
      "cell_type": "code",
      "metadata": {
        "id": "Zrexau_w0iiU",
        "colab_type": "code",
        "colab": {}
      },
      "source": [
        ""
      ],
      "execution_count": 0,
      "outputs": []
    }
  ]
}